{
  "nbformat": 4,
  "nbformat_minor": 0,
  "metadata": {
    "colab": {
      "provenance": [],
      "authorship_tag": "ABX9TyMNN1BH3Z9xPLjyci38QU3G",
      "include_colab_link": true
    },
    "kernelspec": {
      "name": "python3",
      "display_name": "Python 3"
    },
    "language_info": {
      "name": "python"
    }
  },
  "cells": [
    {
      "cell_type": "markdown",
      "metadata": {
        "id": "view-in-github",
        "colab_type": "text"
      },
      "source": [
        "<a href=\"https://colab.research.google.com/github/MiltonVillarroel/Seidel/blob/main/GAUSS_SEIDEL.ipynb\" target=\"_parent\"><img src=\"https://colab.research.google.com/assets/colab-badge.svg\" alt=\"Open In Colab\"/></a>"
      ]
    },
    {
      "cell_type": "markdown",
      "source": [
        "#RESOLUCIÓN DE SISTEMA DE ECUACIONES POR EL MÉTODO GAUSS - SEIDEL\n",
        "A diferencia del método de Jacobi, en las iteraciones se consideran los valores calculados en la iteración actual, prioritariamente; como los valores de la iteración anterior siempre que no existan los valores correspondientes en la iteración actual.\n",
        "1. $0.52x + 0.2y + 0.25z = 4800$\n",
        "2. $0.3x + 0.5y + 0.2z = 5810$\n",
        "3. $0.25x + 0.2y + 0.55z = 5690$"
      ],
      "metadata": {
        "id": "SRvEZGWbpm2i"
      }
    },
    {
      "cell_type": "code",
      "source": [
        "import numpy as np"
      ],
      "metadata": {
        "id": "GZpKpZfOV3zY"
      },
      "execution_count": 2,
      "outputs": []
    },
    {
      "cell_type": "code",
      "source": [
        "A=np.array([[0.52,0.2,0.25],[0.3,0.5,0.2],[0.25,0.2,0.55]])\n",
        "b=np.array([[4800],[5810],[5690]])"
      ],
      "metadata": {
        "id": "2x55-7esWIF1"
      },
      "execution_count": 5,
      "outputs": []
    },
    {
      "cell_type": "markdown",
      "source": [
        "## VERIFICAR DIAGONAL PREDOMINANTE\n",
        "\n",
        "En álgebra lineal, una matriz tiene diagonal dominante si, en cada fila, el valor absoluto del elemento en la diagonal principal es mayor o igual que la suma de los valores absolutos de los demás elementos de esa fila. Esto se expresa matemáticamente como:\n",
        "\n",
        "$|a_{ii}| \\geq \\sum_{j \\neq i} |a_{ij}|$\n",
        "\n",
        "para cada fila 𝑖\n",
        "i.\n",
        "Una matriz diagonal dominante tiene importancia en la resolución de sistemas de ecuaciones lineales, especialmente en métodos iterativos como Gauss-Seidel.\n",
        "\n",
        "Si en un renglón no se puede verificar esta expresión, el resultado correspondiente a la variable en cuestión no será convergente"
      ],
      "metadata": {
        "id": "3oUuMs7IV1Qr"
      }
    },
    {
      "cell_type": "code",
      "source": [
        "def esDiagonalDominate(matriz):\n",
        "    n=matriz.shape[0]\n",
        "    for i in range(n):\n",
        "        suma=0\n",
        "        for j in range(n):\n",
        "            if(i!=j):\n",
        "                suma+=abs(matriz[i][j])\n",
        "        if(abs(matriz[i][i])<suma):\n",
        "            return False\n",
        "    return True\n"
      ],
      "metadata": {
        "id": "wMmnkgV3XgcD"
      },
      "execution_count": null,
      "outputs": []
    },
    {
      "cell_type": "code",
      "source": [
        "print(esDiagonalDominate(A))"
      ],
      "metadata": {
        "colab": {
          "base_uri": "https://localhost:8080/"
        },
        "id": "rg4M90C5YgNK",
        "outputId": "6281da39-d573-4cba-b5e7-bbd50e595d8a"
      },
      "execution_count": null,
      "outputs": [
        {
          "output_type": "stream",
          "name": "stdout",
          "text": [
            "True\n"
          ]
        }
      ]
    },
    {
      "cell_type": "markdown",
      "source": [
        "\n",
        "## ALGORITMO PARA EL METODO GAUSS-SEIDEL\n"
      ],
      "metadata": {
        "id": "fpuEJRF3JXir"
      }
    },
    {
      "cell_type": "code",
      "source": [
        "errorTolerado=0.001\n",
        "n=len(A)\n",
        "x=np.zeros((n,1))\n",
        "c=0;\n",
        "while(True):\n",
        "  xAnterior=np.copy(x)\n",
        "  for i in range(n):\n",
        "    x[i]=(b[i]-sum([A[i][j]*x[j] for j in range(n) if i!=j]))/A[i][i]\n",
        "  c+=1\n",
        "  if(max(abs(x-xAnterior))<errorTolerado):\n",
        "    break\n",
        "\n",
        "print(\"Iteraciones: \",c)\n",
        "print(x)\n",
        "\n",
        ""
      ],
      "metadata": {
        "colab": {
          "base_uri": "https://localhost:8080/"
        },
        "id": "ck_H6nslUHWS",
        "outputId": "aeda9d9e-e813-4bf1-8dc4-489086749256"
      },
      "execution_count": 33,
      "outputs": [
        {
          "output_type": "stream",
          "name": "stdout",
          "text": [
            "Iteraciones:  14\n",
            "[[3565.40088443]\n",
            " [7010.54843683]\n",
            " [6175.52743914]]\n"
          ]
        }
      ]
    },
    {
      "cell_type": "markdown",
      "source": [
        "## Variables iniciales:\n",
        "\n",
        "- `errorTolerado = 0.001`: Este es el criterio de convergencia. Cuando la diferencia entre el vector de soluciones actual y el anterior sea menor que este valor, el algoritmo se detendrá.\n",
        "- `n = len(A)`: Aquí obtienes el tamaño del sistema, es decir, el número de ecuaciones (o el número de filas de la matriz `A`).\n",
        "- `x = np.zeros((n,1))`: Inicializas el vector `x` con ceros. Este será el vector donde irás guardando las soluciones iterativas.\n",
        "- `c = 0`: Contador de iteraciones para llevar control de cuántas veces se repite el ciclo de cálculo.\n",
        "\n",
        "## Bucle infinito `while(True)`:\n",
        "\n",
        "Este bucle se ejecuta hasta que se cumpla el criterio de convergencia.\n",
        "\n",
        "## Almacena una copia del vector `x`:\n",
        "\n",
        "- `xAnterior = np.copy(x)`: Guarda el valor anterior de `x` antes de calcular el nuevo vector de soluciones en la iteración actual. Esto es necesario para comparar después si las diferencias entre las soluciones de la iteración actual y la anterior son suficientemente pequeñas para detener el algoritmo.\n",
        "\n",
        "## Actualización de los valores de `x`:\n",
        "\n",
        "- Dentro del bucle `for`, para cada índice `i`, calculas el nuevo valor de `x[i]` usando la fórmula de Gauss-Seidel. La fórmula toma la ecuación \\(Ax = b\\) y despeja \\(x[i]\\) en función de los demás valores de \\(x\\). Importante: usas el valor actualizado de `x[j]` si ya fue calculado en la misma iteración.\n",
        "\n",
        "- `(b[i] - sum([A[i][j]*x[j] for j in range(n) if i!=j])) / A[i][i]`: Aquí, restas la suma ponderada de todos los elementos excepto el actual de la ecuación para despejar \\(x[i]\\).\n",
        "\n",
        "## Incremento del contador de iteraciones:\n",
        "\n",
        "- `c += 1`: Incrementa el número de iteraciones cada vez que el algoritmo completa una pasada sobre todas las ecuaciones.\n",
        "\n",
        "---\n",
        "\n",
        "\n",
        "\n",
        "## Criterio de convergencia:\n",
        "\n",
        "- `if(max(abs(x - xAnterior)) < errorTolerado)`: Calcula la diferencia entre el vector de soluciones actual (`x`) y el anterior (`xAnterior`). Si la diferencia máxima entre los elementos de estos dos vectores es menor que `errorTolerado`, el bucle se detiene (convergencia alcanzada).\n"
      ],
      "metadata": {
        "id": "r-vO5n3vxA-2"
      }
    }
  ]
}